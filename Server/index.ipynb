{
 "cells": [
  {
   "cell_type": "code",
   "execution_count": null,
   "id": "389197a5",
   "metadata": {},
   "outputs": [],
   "source": [
    "from langchain_community.document_loaders import UnstructuredURLLoader\n",
    "\n",
    "\n",
    "loader=UnstructuredURLLoader( urls=[\n",
    "        \"https://www.moneycontrol.com/news/business/ipo/icici-prudential-amc-kicks-off-mega-ipo-with-record-syndicate-filing-likely-by-june-end-with-launch-aimed-for-q3-13108573.html\",\n",
    "        \"https://www.moneycontrol.com/news/business/markets/trade-setup-for-june-11-top-15-things-to-know-before-the-opening-bell-13109153.html\"\n",
    "    ],\n",
    "   \n",
    ")\n",
    "\n",
    "documents=loader.load()\n"
   ]
  },
  {
   "cell_type": "code",
   "execution_count": 16,
   "id": "fca21d8a",
   "metadata": {},
   "outputs": [
    {
     "data": {
      "text/plain": [
       "'English\\n\\nHindi\\n\\nGujarati\\n\\nSpecials\\n\\nHello, Login\\n\\nHello, Login\\n\\nLog-inor Sign-Up\\n\\nMy Account\\n\\nMy Profile\\n\\nMy Portfolio\\n\\nMy Watchlist\\n\\nMy Alerts\\n\\nMy Messages\\n\\nPrice Alerts\\n\\nMy Profile\\n\\nMy PRO\\n\\nMy Portfolio\\n\\nMy Watchlist\\n\\nMy Alerts\\n\\nMy Messages\\n\\nPrice Alerts\\n\\nLogout\\n\\nLoans up to ₹50 LAKHS\\n\\nFixed Deposits\\n\\nCredit CardsLifetime Free\\n\\nCredit Score\\n\\nChat with Us\\n\\nDownload App\\n\\nFollow us on:\\n\\nNetwork 18\\n\\nGo Ad-Free\\n\\nMy Alerts\\n\\n>->MC_ENG_DESKTOP/MC_ENG_NEWS/MC_ENG_BUSINESS_AS/MC_ENG_ROS_NWS_BUS_AS_ATF_728\\n\\nMoneycontrol\\n\\nGo PRO NowPRO\\n\\nMoneycontrol PRO\\n\\nAdvertisement\\n\\nRemove Ad\\n\\nBusiness\\n\\nMarkets\\n\\nStocks\\n\\nEconomy\\n\\nCompanies\\n\\nTrends\\n\\nIPO\\n\\nOpinion\\n\\nEV Special\\n\\nSubscription Products\\n\\nprofile\\n\\nAmbareesh Baliga\\n\\nprofile\\n\\nCK Narayan\\n\\nprofile\\n\\nT Gnanasekar\\n\\nprofile\\n\\nPower Your Trade\\n\\nprofile\\n\\nCurrencies with Mecklai Financial\\n\\nprofile\\n\\nStock Reports\\n\\nHomeNewsBusinessIPOICICI Prudential AMC kicks off mega IPO with record syndicate; filing likely by June-end with launch aimed for Q3\\n\\nTrending Topics\\n\\nIndian RupeeOswal Pumps IPOHome Loan Interest RatesSensex LiveInflation Forecast\\n\\nMC EXCLUSIVE ICICI Prudential AMC kicks off mega IPO with record syndicate; filing likely by June-end with launch aimed for Q3\\n\\nThis IPO will be a pure OFS by Prudential with no participation by ICICI Bank, said a source\\n\\nAshwin Mohan\\n\\nJune 10, 2025 / 17:34 IST\\n\\nICICI Prudential AMC kicks off mega IPO with record syndicate; filing likely by June-end with launch aimed for Q3\\n\\nICICI Prudential AMC kicks off mega IPO with record syndicate; filing likely by June-end with launch aimed for Q3\\n\\nIndia\\'s second largest asset management company in terms of managed assets, ICICI Prudential Asset Management Company kicked off its mega IPO recently and has engaged an army of up to 17 investment banks, arguably an all-time record for size of IPO syndicates in India, multiple industry sources in the know told Moneycontrol.\\n\\nThe 51:49 joint venture has existed for 26 years with ICICI Bank tying up with Britain\\'s Prudential Plc back in 1998.\\n\\nStory continues below Advertisement\\n\\nRemove Ad\\n\\n\"The deal was kicked off last week with all the advisors including investment banks and lawyers. This IPO will be a pure OFS or offer for sale by Prudential with no participation by ICICI Bank. The plan is to file the draft papers by June-end or early July,\" said one of the persons quoted above.\\n\\nA second person said no final call had been taken as yet on the proposed size of the big-bang issue, which is expected to raise around Rs 10,000 crore.\\n\\n\"The size may change later depending on extent of shares diluted in the OFS and valuations, and more clarity will emerge closer to the launch of the IPO, which is likely in Q3FY26,\" this person added.\\n\\nRelated stories\\n\\nPune-based Patil Automation IPO to hit capital markets on June 16\\n\\nPune-based Patil Automation IPO to hit capital markets on June 16\\n\\nAten Papers &amp; Foam IPO to open on June 13; check offer size, price band details\\n\\nAten Papers & Foam IPO to open on June 13; check offer size, price band details\\n\\nIn March, Bloomberg had reported that Prudential Plc is targeting a valuation of about $12 billion for ICICI Prudential Asset Management Company.\\n\\n\"The big syndicate includes ICICI Securities and Citi which were taken on board earlier in the year, Goldman Sachs, Morgan Stanley, Kotak Mahindra Capital, BofA Securities, IIFL Capital, Nomura Securities, JM Financial, Motilal Oswal, Avendus Capital, Nuvama, BNP Paribas, CLSA Securities and SBI Capital,\" two other persons added. Moneycontrol couldn\\'t independently verify the remaining banks in the syndicate. In 2012, Bharti Infratel had engaged 13 investment banks for its IPO.\\n\\n\"Law firms Cyril Amarchand Mangadlas, Shardul Amarchand Mangaldas and Sidley have been engaged as legal advisors for the proposed IPO,\" a fifth person told Moneycontrol.\\n\\nStory continues below Advertisement\\n\\nRemove Ad\\n\\nStory continues below Advertisement\\n\\nRemove Ad\\n\\nThe five people quoted above spoke to Moneycontrol on the condition of anonymity.\\n\\nWhen contacted, Prudential Plc said \"we have no comment beyond what we stated in our February statement\".\\n\\nEmail queries to ICICI Bank and ICICI Prudential AMC remained unanswered at the time of publishing this article. An immediate comment couldn\\'t be elicited from the i-banks and law firms.\\n\\nPrudential Plc announced on February 12 that it is evaluating a potential listing of ICICI Prudential Asset Management Company Limited involving the partial divestment of its shares, subject to market conditions, requisite approvals and other considerations.\\n\\n\"It is intended that following the completion of such a divestment, the net proceeds would be returned to shareholders. We will provide a further update at an appropriate time. India is a strategically important market for Prudential with compelling growth prospects. We will continue to explore opportunities to grow our businesses in the market,\" the official statement added.\\n\\nOn the same day, ICICI Bank acknowledged the Prudential announcement and said,\" We intend to retain our majority shareholding in ICICI Prudential Asset Management Company, ensuring our long-term commitment.\"\\n\\nIn March, ICICI Bank was informed by ICICI Prudential Asset Management Company and ICICI Venture Funds Management Company Limited that their respective Boards of Directors have approved in-principle a proposal to transfer the private equity, venture capital and real estate fund management business of I-Ven to IPru AMC.\\n\\n\"I-Ven would continue to undertake certain advisory activities as well as manage certain residual funds. The proposed transaction would enable the offering of an integrated full range of investment asset classes including private equity by IPru AMC,\" the disclosure said.\\n\\nPrudential Plc provides life, health insurance and asset management to more than 18 million customers across 24 markets in Asia and Africa. Headquartered in London and Hong Kong, the business is focused on four strategic regions: Greater China, ASEAN, India and Africa.\\n\\nThe share price of ICICI Prudential AMC\\'s listed AMC peers like HDFC Asset Management Company , Nippon Life India Asset Management Company and UTI Asset Management Company have risen sharply in the last month by around 13.27 per cent, 16.02 per cent and 20 per cent respectively.\\n\\nA closer look at ICICI Pru AMC\\n\\nLed by MD and CEO Nimesh Shah and Executive Director and Chief Investment Officer Sankaran Naren, as of March 31, 2025, ICICI Prudential Mutual Fund had an AUM of Rs 9,14,878 crores and 1.1 crore+ investors across 133+ schemes.\\n\\nSBI Mutual Fund is India\\'s largest asset management company (AMC).\\n\\nThe AMC also caters to portfolio management services for investors, spread across the country, along with international advisory mandates for clients across international markets in asset classes like debt, equity and real estate, the website adds.\\n\\nOver and above ICICI Bank, the other entities from the ICICI Group that are listed include ICICI Prudential Life Insurance Company, ICICI Lombard General Insurance Company and ICICI Securities.\\n\\nAshwin Mohan\\n\\nAshwin Mohan is Editor (Deals) at Moneycontrol and leads the M&A, private equity and equity capital market transactions coverage. He anchors the video show \\'Deal Central \\' and tweets at @ashwinmohansays. He has previously worked with ET NOW, CNBC TV-18 and The Times of India.\\n\\nfirst published: Jun 10, 2025 05:29 pm\\n\\nDiscover the latest Business News, Budget 2025 News, Sensex, and Nifty updates. Obtain Personal Finance insights, tax queries, and expert opinions on Moneycontrol or download the Moneycontrol App to stay updated!\\n\\nAdvertisement\\n\\nRemove Ad\\n\\nAdvertisement\\n\\nRemove Ad\\n\\nAdvertisement\\n\\nRemove Ad\\n\\nAdvertisement\\n\\nRemove Ad\\n\\nAdvertisement\\n\\nRemove Ad\\n\\nTrending news\\n\\n14-year-old develops AI app to detect heart disease in 7 seconds. Meet Siddharth Nandyala\\n\\n\\'All the anti-work-life balance comments come from men\\': Edelweiss MF CEO Radhika Gupta\\n\\n\\'Please don\\'t make me unnecessarily famous,\\' requests Chenab Bridge engineer Madhavi Latha\\n\\n\\'ChatGPT is down\\': Memes and jokes flood internet. \\'It\\'s time to use my brain\\'\\n\\nSpace jam: Scientists warn of collisions as satellite numbers hit critical levels\\n\\nAdvertisement\\n\\nRemove Ad\\n\\nAdvisory Alert:\\n\\nmoneycontrol\\n\\nFollow Us On:\\n\\nFacebook\\n\\ntwitter\\n\\ninstagram\\n\\nlinkedin\\n\\ntelegram\\n\\nyoutube\\n\\nStocks: A B C D E F G H I J K L M N O P Q R S T U V W X Y Z Others\\n\\nTrending Topics\\n\\nSensex Today Sonam Raghuwanshi Chenab Bridge LA Protests Premier Energies block deal UPSC Prelims Result 2025 DII investments Jammu Heatwave US China Trade Talks Apple Liquid Glass\\n\\nNews\\n\\nBusiness Markets Stocks India News City News Economy Mutual Funds Personal Finance IPO News Startups\\n\\nMarkets\\n\\nHome Currencies Commodities Pre-Market IPO Global Market Bonds\\n\\nPersonal Finance\\n\\nHome Loans up to 50 Lakhs Credit Cards Lifetime Free Finance TrackerNew Fixed Deposits Fixed Deposit Comparison Fixed Income\\n\\nMutual Funds\\n\\nHome MC 30 Top Ranked Funds ETFs Mutual Fund Screener\\n\\nTools\\n\\nIncome Tax Calculator EMI Calculator Retirement Planning Gratuity Calculator\\n\\nCommunity\\n\\nStock Markets\\n\\nNetwork 18 Sites\\n\\nNews18 Firstpost CNBC TV18 News18 Hindi Cricketnext Overdrive\\n\\nQuick Links\\n\\nAbout Us Contact Us Advisory Alert Advertise with Us SupportDisclaimer Privacy Policy Cookie Policy Terms & Conditions Financial Terms (Glossary) Sitemap Investors\\n\\nDownload MC Apps:\\n\\n\\n\\n\\n\\n\\n\\nCopyright © Network18 Media & Investments Limited. All rights reserved. Reproduction of news articles, photos, videos or any other content in whole or in part in any form or medium without express written permission of moneycontrol.com is prohibited.\\n\\nYou got 30 Day’s Trial of\\n\\nMoneycontrol Pro\\n\\nMoneycontrol Pro\\n\\nGrab it Now\\n\\nAd-Free Experience\\n\\nTop Articles from Financial Times\\n\\nTop Articles from Financial Times\\n\\nActionable Insights\\n\\nMC Research\\n\\nEconomic Calendar\\n\\n& Many More\\n\\n& Many More\\n\\nYou are already a Moneycontrol Pro user.\\n\\nBe Prepared with PRO\\n\\nBe Prepared with PRO\\n\\nJ Jagannath'"
      ]
     },
     "execution_count": 16,
     "metadata": {},
     "output_type": "execute_result"
    }
   ],
   "source": [
    "documents[0].page_content"
   ]
  },
  {
   "cell_type": "code",
   "execution_count": 22,
   "id": "8cefa270",
   "metadata": {},
   "outputs": [],
   "source": [
    "from langchain.text_splitter import RecursiveCharacterTextSplitter\n",
    "text_splitter = RecursiveCharacterTextSplitter(\n",
    "    chunk_size=500,\n",
    "    chunk_overlap=100,\n",
    ")\n",
    "splits = text_splitter.split_documents(documents)"
   ]
  },
  {
   "cell_type": "code",
   "execution_count": 25,
   "id": "b0eb220c",
   "metadata": {},
   "outputs": [
    {
     "name": "stderr",
     "output_type": "stream",
     "text": [
      "0.00s - Debugger warning: It seems that frozen modules are being used, which may\n",
      "0.00s - make the debugger miss breakpoints. Please pass -Xfrozen_modules=off\n",
      "0.00s - to python to disable frozen modules.\n",
      "0.00s - Note: Debugging will proceed. Set PYDEVD_DISABLE_FILE_VALIDATION=1 to disable this validation.\n"
     ]
    }
   ],
   "source": [
    "from langchain_community.embeddings import HuggingFaceEmbeddings\n",
    "# Embed with HuggingFace\n",
    "embedding = HuggingFaceEmbeddings(model_name=\"sentence-transformers/all-MiniLM-L6-v2\")\n"
   ]
  },
  {
   "cell_type": "code",
   "execution_count": 28,
   "id": "69a11ae5",
   "metadata": {},
   "outputs": [],
   "source": [
    "from langchain.vectorstores import Chroma\n",
    "# Store vectors in Chroma\n",
    "vectorstore = Chroma.from_documents(documents=splits, embedding=embedding)\n"
   ]
  },
  {
   "cell_type": "code",
   "execution_count": 31,
   "id": "7f02ac50",
   "metadata": {},
   "outputs": [
    {
     "name": "stdout",
     "output_type": "stream",
     "text": [
      "GroQ API key loaded successfully.\n"
     ]
    }
   ],
   "source": [
    "import os\n",
    "from dotenv import load_dotenv\n",
    "\n",
    "load_dotenv()\n",
    "\n",
    "groq_api_key = os.getenv(\"GROQ_API_KEY\")\n",
    "\n",
    "if not groq_api_key:\n",
    "    raise ValueError(\"GROQ_API_KEY is not set in your .env file.\")\n",
    "else:\n",
    "    print(\"GroQ API key loaded successfully.\")\n",
    "    os.environ[\"GROQ_API_KEY\"] = groq_api_key\n",
    "\n",
    "from langchain.chat_models import init_chat_model\n",
    "\n",
    "model = init_chat_model(\"llama3-8b-8192\", model_provider=\"groq\", temperature=0.7, api_key=groq_api_key)\n"
   ]
  },
  {
   "cell_type": "code",
   "execution_count": 52,
   "id": "e2593378",
   "metadata": {},
   "outputs": [
    {
     "name": "stdout",
     "output_type": "stream",
     "text": [
      "Answer: According to the latest news, ICICI Prudential AMC's IPO will be a pure Offer For Sale (OFS) by Prudential, with no participation by ICICI Bank. The filing is likely to happen by the end of June, and the launch is aimed for the third quarter.\n",
      "Source Documents: ['https://www.moneycontrol.com/news/business/ipo/icici-prudential-amc-kicks-off-mega-ipo-with-record-syndicate-filing-likely-by-june-end-with-launch-aimed-for-q3-13108573.html', 'https://www.moneycontrol.com/news/business/ipo/icici-prudential-amc-kicks-off-mega-ipo-with-record-syndicate-filing-likely-by-june-end-with-launch-aimed-for-q3-13108573.html']\n"
     ]
    }
   ],
   "source": [
    "from langchain.chains import RetrievalQA\n",
    "\n",
    "retriever = vectorstore.as_retriever(search_kwargs={\"k\": 2})\n",
    "qa = RetrievalQA.from_chain_type(\n",
    "    llm=model,\n",
    "    chain_type=\"stuff\",\n",
    "    retriever=retriever,\n",
    "    return_source_documents=True\n",
    ")\n",
    "query = \"What is the latest news on ICICI Prudential AMC's IPO?\"\n",
    "result = qa({\"query\": query})\n",
    "print(\"Answer:\", result['result'])\n",
    "print(\"Source Documents:\", [doc.metadata['source'] for doc in result['source_documents']])"
   ]
  }
 ],
 "metadata": {
  "kernelspec": {
   "display_name": "base",
   "language": "python",
   "name": "python3"
  },
  "language_info": {
   "codemirror_mode": {
    "name": "ipython",
    "version": 3
   },
   "file_extension": ".py",
   "mimetype": "text/x-python",
   "name": "python",
   "nbconvert_exporter": "python",
   "pygments_lexer": "ipython3",
   "version": "3.12.9"
  }
 },
 "nbformat": 4,
 "nbformat_minor": 5
}
